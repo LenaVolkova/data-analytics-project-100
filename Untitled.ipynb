{
 "cells": [
  {
   "cell_type": "code",
   "execution_count": null,
   "id": "aa3b38cf-a1a8-4457-a469-3f47ee2dba12",
   "metadata": {},
   "outputs": [],
   "source": [
    "import pandas as pd\n",
    "import requests\n",
    "import matplotlib.pyplot as plt\n",
    "import seaborn as sns\n",
    "import matplotlib.dates as mdates"
   ]
  },
  {
   "cell_type": "code",
   "execution_count": null,
   "id": "7093c8bb-9461-4205-86fa-ad3b0bc6300e",
   "metadata": {},
   "outputs": [],
   "source": [
    "#df_registrations = pd.read_csv('./regs_1k.csv')"
   ]
  },
  {
   "cell_type": "code",
   "execution_count": null,
   "id": "75c36dd2-bf8b-4318-bfcc-43f92ba203be",
   "metadata": {},
   "outputs": [],
   "source": [
    "#df_visits = pd.read_csv('./visits_1k.csv')"
   ]
  },
  {
   "cell_type": "code",
   "execution_count": null,
   "id": "d2a7d74c-1667-4dbc-82b6-d6c2f918930c",
   "metadata": {},
   "outputs": [],
   "source": [
    "url_registrations = \"https://data-charts-api.hexlet.app/registrations?begin=2023-03-01&end=2023-09-01\"\n",
    "response = requests.get(url_registrations)\n",
    "if response.status_code == 200:  \n",
    "    data = response.json()\n",
    "df_registrations = pd.DataFrame(data)"
   ]
  },
  {
   "cell_type": "code",
   "execution_count": null,
   "id": "7fa5af1a-363f-4bb1-84c6-0caa329b969e",
   "metadata": {},
   "outputs": [],
   "source": [
    "df_registrations.info()"
   ]
  },
  {
   "cell_type": "code",
   "execution_count": null,
   "id": "ff784720-fafb-41fc-b28d-8574c2091b61",
   "metadata": {},
   "outputs": [],
   "source": [
    "url_visits = \"https://data-charts-api.hexlet.app/visits?begin=2023-03-01&end=2023-09-01\"\n",
    "response = requests.get(url_visits)\n",
    "if response.status_code == 200:  \n",
    "    data = response.json()\n",
    "df_visits = pd.DataFrame(data)"
   ]
  },
  {
   "cell_type": "code",
   "execution_count": null,
   "id": "9a9797ba-9a6b-498c-b209-ef11402a8b55",
   "metadata": {},
   "outputs": [],
   "source": [
    "df_visits.info()"
   ]
  },
  {
   "cell_type": "code",
   "execution_count": null,
   "id": "274fd5d9-9bd4-4058-be12-68f172b550be",
   "metadata": {},
   "outputs": [],
   "source": [
    "df_registrations['datetime'] = pd.to_datetime(df_registrations['datetime'])\n",
    "df_visits['datetime'] = pd.to_datetime(df_visits['datetime'])"
   ]
  },
  {
   "cell_type": "markdown",
   "id": "f2c2bf28-24b1-41b3-a05f-a1ee5ad344d8",
   "metadata": {},
   "source": [
    "Отфильтровываю ботов"
   ]
  },
  {
   "cell_type": "code",
   "execution_count": null,
   "id": "91874f0e-8bc1-4122-a84d-072191eeb968",
   "metadata": {},
   "outputs": [],
   "source": [
    "human_visits = df_visits[~df_visits['user_agent'].str.contains('bot')]"
   ]
  },
  {
   "cell_type": "markdown",
   "id": "324c7453-0b28-4160-ba16-af793b66b081",
   "metadata": {},
   "source": [
    "Сортирую по дате и для каждого visit_id беру последнюю дату"
   ]
  },
  {
   "cell_type": "code",
   "execution_count": null,
   "id": "04997f58-65d3-4dfc-9d3a-20143e6723e7",
   "metadata": {},
   "outputs": [],
   "source": [
    "last_visits = human_visits.sort_values('datetime').drop_duplicates('visit_id', keep='last')"
   ]
  },
  {
   "cell_type": "markdown",
   "id": "d2f6a928-a079-4af4-aff2-672fee982c04",
   "metadata": {},
   "source": [
    "Делаю агрегацию регистраций по дате и платформе"
   ]
  },
  {
   "cell_type": "code",
   "execution_count": null,
   "id": "1a98a375-cac1-47d1-bf48-4f130061b0c1",
   "metadata": {},
   "outputs": [],
   "source": [
    "df_registrations['date_group'] = df_registrations['datetime'].dt.date\n",
    "aggregated_registrations = df_registrations.groupby(['date_group', 'platform']).size().reset_index(name='registrations')"
   ]
  },
  {
   "cell_type": "code",
   "execution_count": null,
   "id": "b73f6834-5a82-4cc6-aaef-b4764dab0b51",
   "metadata": {},
   "outputs": [],
   "source": [
    "aggregated_registrations.info()"
   ]
  },
  {
   "cell_type": "markdown",
   "id": "07d9079e-b404-40ff-b6ed-7fc61b84f1b3",
   "metadata": {},
   "source": [
    "Делаю агрегацию визитов по дате и платформе"
   ]
  },
  {
   "cell_type": "code",
   "execution_count": null,
   "id": "947bdadf-4429-4568-81f6-b034d1932220",
   "metadata": {},
   "outputs": [],
   "source": [
    "last_visits['date_group'] = last_visits['datetime'].dt.date\n",
    "aggregated_visits = last_visits.groupby(['date_group', 'platform']).size().reset_index(name='visits')"
   ]
  },
  {
   "cell_type": "code",
   "execution_count": null,
   "id": "bc5da8cd-4c42-49fc-94e0-08ff8587f61a",
   "metadata": {},
   "outputs": [],
   "source": [
    "aggregated_registrations.info()"
   ]
  },
  {
   "cell_type": "markdown",
   "id": "a301987d-9510-48d5-bd8b-e6d3ffaef1ed",
   "metadata": {},
   "source": [
    "Далее объединяю и считаю конверсию"
   ]
  },
  {
   "cell_type": "code",
   "execution_count": null,
   "id": "1f2adeae-633b-4419-b994-cdf4df204b58",
   "metadata": {},
   "outputs": [],
   "source": [
    "merged_data = pd.merge(aggregated_registrations, aggregated_visits, on=['date_group', 'platform'], how='inner')"
   ]
  },
  {
   "cell_type": "code",
   "execution_count": null,
   "id": "5e571fe6-1397-429b-b6f0-db2d29426aaf",
   "metadata": {},
   "outputs": [],
   "source": [
    "merged_data[\"conversion\"] = merged_data[\"visits\"] / merged_data[\"registrations\"]"
   ]
  },
  {
   "cell_type": "code",
   "execution_count": null,
   "id": "f520f8d1-ce02-4b8c-802b-cd718e0e691f",
   "metadata": {},
   "outputs": [],
   "source": [
    "merged_data = merged_data[[\"date_group\", \"platform\", \"visits\", \"registrations\", \"conversion\"]]"
   ]
  },
  {
   "cell_type": "code",
   "execution_count": null,
   "id": "8cb871a7-2cf6-45b2-86e9-976793ceecf3",
   "metadata": {},
   "outputs": [],
   "source": [
    "merged_data_sorted = merged_data.sort_values(by='date_group', ascending=True)"
   ]
  },
  {
   "cell_type": "code",
   "execution_count": null,
   "id": "a8007834-17ad-4c02-8d9e-9199d4d30a3c",
   "metadata": {},
   "outputs": [],
   "source": [
    "merged_data_sorted.to_json('conversion.json')"
   ]
  },
  {
   "cell_type": "markdown",
   "id": "8762f096-47de-4933-b3c8-38831683779a",
   "metadata": {},
   "source": [
    "Анализ затрат на рекламу"
   ]
  },
  {
   "cell_type": "code",
   "execution_count": null,
   "id": "35f7b2c1-761b-44d8-a257-cd5608eaa20d",
   "metadata": {},
   "outputs": [],
   "source": [
    "df_ads = pd.read_csv('./ads.csv')"
   ]
  },
  {
   "cell_type": "code",
   "execution_count": null,
   "id": "5e21a9ee-1cf2-41d1-b94e-1763d2ae775d",
   "metadata": {},
   "outputs": [],
   "source": [
    "df_ads.info()"
   ]
  },
  {
   "cell_type": "markdown",
   "id": "03c3c3ea-4ce0-48a3-ad77-10b6891fa5fe",
   "metadata": {},
   "source": [
    "Сортирую по дате и меняю название колонки"
   ]
  },
  {
   "cell_type": "code",
   "execution_count": null,
   "id": "251bed34-d638-4903-93af-fe3f7dcd50d8",
   "metadata": {},
   "outputs": [],
   "source": [
    "df_ads_sorted = df_ads.sort_values(by='date', ascending=True)"
   ]
  },
  {
   "cell_type": "code",
   "execution_count": null,
   "id": "98e50030-6218-4ed9-8ace-d3f24944081a",
   "metadata": {},
   "outputs": [],
   "source": [
    "df_ads['date_group'] = pd.to_datetime(df_ads['date']).dt.date"
   ]
  },
  {
   "cell_type": "markdown",
   "id": "b9f1858f-2471-4b24-a05e-e7b77d3e0401",
   "metadata": {},
   "source": [
    "Выбираю колонки, с которыми буду дальше работать"
   ]
  },
  {
   "cell_type": "code",
   "execution_count": null,
   "id": "a9a04aeb-da1e-47d4-9dde-b816bcab73d1",
   "metadata": {},
   "outputs": [],
   "source": [
    "temp_ads = df_ads[[\"date_group\", \"utm_campaign\", \"cost\"]]"
   ]
  },
  {
   "cell_type": "code",
   "execution_count": null,
   "id": "46714f0b-717e-4f1b-9578-08905ea61910",
   "metadata": {},
   "outputs": [],
   "source": [
    "temp_ads.head(10)"
   ]
  },
  {
   "cell_type": "markdown",
   "id": "c2f4ddae-70ad-4a75-bbde-41e143813cbb",
   "metadata": {},
   "source": [
    "Объединяю их с данными по стоимости рекламных кампаний."
   ]
  },
  {
   "cell_type": "code",
   "execution_count": null,
   "id": "e0efaf35-35fb-4c98-affe-9bdd2cd69b43",
   "metadata": {},
   "outputs": [],
   "source": [
    "merged_data_sorted.head(10)"
   ]
  },
  {
   "cell_type": "code",
   "execution_count": null,
   "id": "d52232ca-ca23-452c-a961-05efec93ca8e",
   "metadata": {},
   "outputs": [],
   "source": [
    "merged_df = pd.merge(merged_data_sorted, temp_ads, on='date_group', how='left')"
   ]
  },
  {
   "cell_type": "code",
   "execution_count": null,
   "id": "38952ddc-db28-40fd-8169-a30d9c4f74f4",
   "metadata": {},
   "outputs": [],
   "source": [
    "merged_df.head(10)"
   ]
  },
  {
   "cell_type": "code",
   "execution_count": null,
   "id": "c4e2337c-c733-4a0d-8312-4a0ea9699042",
   "metadata": {},
   "outputs": [],
   "source": [
    "merged_df['cost'] = merged_df['cost'].fillna(0)\n",
    "merged_df['utm_campaign'] = merged_df['utm_campaign'].fillna(\"none\")"
   ]
  },
  {
   "cell_type": "markdown",
   "id": "8d938c97-e4a0-4063-b867-341b962c9a25",
   "metadata": {},
   "source": [
    "Сортирую по дате и останваливаю только нужные столбцы"
   ]
  },
  {
   "cell_type": "code",
   "execution_count": null,
   "id": "a4c852da-de06-4ba4-a6e7-24909efd2578",
   "metadata": {},
   "outputs": [],
   "source": [
    "merged_df_sorted = merged_df.sort_values(by='date_group', ascending=True)"
   ]
  },
  {
   "cell_type": "code",
   "execution_count": null,
   "id": "e3b2c949-c04b-45b2-a400-60f3d9c19ea3",
   "metadata": {},
   "outputs": [],
   "source": [
    "merged_df_sorted = merged_df_sorted[[\"date_group\", \"visits\", \"registrations\", \"cost\", \"utm_campaign\"]]"
   ]
  },
  {
   "cell_type": "code",
   "execution_count": null,
   "id": "b7e9e13b-9384-4855-a34a-119a4aabf9fd",
   "metadata": {},
   "outputs": [],
   "source": [
    "merged_df_sorted.head(10)"
   ]
  },
  {
   "cell_type": "code",
   "execution_count": null,
   "id": "8c945de3-dfe3-4135-b89b-e0a14b26d87d",
   "metadata": {},
   "outputs": [],
   "source": [
    "merged_df_sorted.to_json('ads.json')"
   ]
  },
  {
   "cell_type": "markdown",
   "id": "c704f7d6-d001-448e-b274-b565fc46ed29",
   "metadata": {},
   "source": [
    "Построение графиков"
   ]
  },
  {
   "cell_type": "markdown",
   "id": "4a02ece2-b36f-40ff-9fd1-8c89c31f77cc",
   "metadata": {},
   "source": [
    "1. Итоговые визиты"
   ]
  },
  {
   "cell_type": "code",
   "execution_count": null,
   "id": "89616496-6dc2-4a44-b6b8-dffab1da4948",
   "metadata": {},
   "outputs": [],
   "source": [
    "merged_data_sorted['date_group'] = pd.to_datetime(merged_data_sorted['date_group'])"
   ]
  },
  {
   "cell_type": "code",
   "execution_count": null,
   "id": "ba44110d-7f2f-4204-8c1a-dfa0ce03ad4a",
   "metadata": {},
   "outputs": [],
   "source": [
    "total_visits_by_date = merged_data_sorted.groupby('date_group')['visits'].sum().reset_index()"
   ]
  },
  {
   "cell_type": "code",
   "execution_count": null,
   "id": "7cbbfa9a-dced-4fbe-9154-9658a3504c78",
   "metadata": {},
   "outputs": [],
   "source": [
    "num_dates = len(total_visits_by_date['date_group'].unique())\n",
    "scale = num_dates // 60\n",
    "tick_indices = range(0, num_dates, scale)\n",
    "\n",
    "dates_str = total_visits_by_date['date_group'].dt.strftime('%Y-%m-%d')\n",
    "tick_labels = [dates_str[i] for i in tick_indices]"
   ]
  },
  {
   "cell_type": "code",
   "execution_count": null,
   "id": "c5960528-8059-4a3b-b4df-10da4a733349",
   "metadata": {},
   "outputs": [],
   "source": [
    "plt.figure(figsize=(12, 6))\n",
    "ax = sns.barplot(x='date_group', y='visits', data=total_visits_by_date, errorbar=None)\n",
    "plt.title('Total Visits')\n",
    "plt.xlabel('date_group')\n",
    "plt.ylabel('visits')\n",
    "plt.xticks(rotation=45)\n",
    "plt.grid(True) # Add grid\n",
    "plt.grid(axis='x')\n",
    "\n",
    "tick_positions = plt.gca().get_xticks()\n",
    "\n",
    "for container in ax.containers:\n",
    "    for j, bar in enumerate(container.patches):\n",
    "        if j % scale == 0:\n",
    "            height = bar.get_height()\n",
    "            ax.text(bar.get_x() + bar.get_width()/2., height, '%d' % int(height), ha='center', va='bottom')\n",
    "\n",
    "plt.xticks(tick_indices, tick_labels, rotation=45, ha='right')\n",
    "\n",
    "plt.tight_layout()\n",
    "plt.savefig('./charts/total_visits.png')\n",
    "plt.show()"
   ]
  },
  {
   "cell_type": "markdown",
   "id": "946d5c47-a74f-4103-bad8-a875696384ac",
   "metadata": {},
   "source": [
    "2. Итоговые визиты с разбивкой по платформам"
   ]
  },
  {
   "cell_type": "code",
   "execution_count": null,
   "id": "02726ac0-7c1b-4af5-b2db-ac7bb12572aa",
   "metadata": {},
   "outputs": [],
   "source": [
    "plt.figure(figsize=(14, 7))\n",
    "ax = merged_data_sorted.pivot(index='date_group', columns='platform', values='visits').plot(kind='bar', stacked=True, figsize=(14, 7), ax=plt.gca())\n",
    "plt.title('Visits by Platform (Stacked)')\n",
    "plt.xlabel('date_group')\n",
    "plt.ylabel('Visits')\n",
    "plt.xticks(rotation=45, ha='right')\n",
    "plt.grid(axis='y')\n",
    "plt.legend(title='Platform', loc='upper right')\n",
    "plt.tight_layout()\n",
    "\n",
    "num_dates = len(merged_data_sorted['date_group'].unique())\n",
    "scale = max(1, num_dates // 60) \n",
    "tick_indices = range(0, num_dates, scale)\n",
    "\n",
    "merged_data_sorted['date_group'] = pd.to_datetime(merged_data_sorted['date_group'])\n",
    "\n",
    "unique_dates_str = merged_data_sorted['date_group'].dt.strftime('%Y-%m-%d').unique()\n",
    "tick_labels = [unique_dates_str[i] for i in tick_indices]\n",
    "\n",
    "plt.xticks(tick_indices, tick_labels, rotation=45, ha='right')\n",
    "plt.savefig('./charts/total_visits_by_platform.png')\n",
    "plt.show()"
   ]
  },
  {
   "cell_type": "markdown",
   "id": "537a9497-0778-47ab-9af0-8d02f91fc4fd",
   "metadata": {},
   "source": [
    "3. Итоговые регистрации"
   ]
  },
  {
   "cell_type": "code",
   "execution_count": null,
   "id": "9c4796a9-382e-47b2-b337-a19c70818969",
   "metadata": {},
   "outputs": [],
   "source": [
    "total_registrations_by_date = merged_data_sorted.groupby('date_group')['registrations'].sum().reset_index()"
   ]
  },
  {
   "cell_type": "code",
   "execution_count": null,
   "id": "fc992d69-1fa6-4a27-847e-d7be767902fa",
   "metadata": {},
   "outputs": [],
   "source": [
    "num_dates = len(total_registrations_by_date['date_group'])\n",
    "scale = num_dates // 60\n",
    "tick_indices = range(0, num_dates, scale)\n",
    "\n",
    "dates_str = total_registrations_by_date['date_group'].dt.strftime('%Y-%m-%d')\n",
    "tick_labels = [dates_str[i] for i in tick_indices]"
   ]
  },
  {
   "cell_type": "code",
   "execution_count": null,
   "id": "d8571580-06c7-4e9d-96ac-f6e0d971feb6",
   "metadata": {},
   "outputs": [],
   "source": [
    "plt.figure(figsize=(12, 6))\n",
    "ax = sns.barplot(x='date_group', y='registrations', data=total_registrations_by_date, errorbar=None)\n",
    "plt.title('Total Registrations')\n",
    "plt.xlabel('date_group')\n",
    "plt.ylabel('registrations')\n",
    "plt.xticks(rotation=45)\n",
    "plt.grid(True) \n",
    "plt.grid(axis='x')\n",
    "\n",
    "tick_positions = plt.gca().get_xticks()\n",
    "\n",
    "for container in ax.containers:\n",
    "    for j, bar in enumerate(container.patches):\n",
    "        if j % scale == 0:\n",
    "            height = bar.get_height()\n",
    "            ax.text(bar.get_x() + bar.get_width()/2., height,\n",
    "                    '%d' % int(height),\n",
    "                    ha='center', va='bottom')\n",
    "\n",
    "plt.xticks(tick_indices, tick_labels, rotation=45, ha='right')\n",
    "\n",
    "plt.tight_layout()\n",
    "plt.savefig('./charts/total_registrations.png')\n",
    "plt.show()"
   ]
  },
  {
   "cell_type": "markdown",
   "id": "ac3731f1-75e1-4ddd-8d13-4f8f03872ada",
   "metadata": {},
   "source": [
    "4. Итоговые регистрации с разбивкой по платформам"
   ]
  },
  {
   "cell_type": "code",
   "execution_count": null,
   "id": "00258c9e-063f-4ef8-b55d-3eb5d007865a",
   "metadata": {},
   "outputs": [],
   "source": [
    "plt.figure(figsize=(14, 7))\n",
    "ax = merged_data_sorted.pivot(index='date_group', columns='platform', values='registrations').plot(kind='bar', stacked=True, figsize=(14, 7), ax=plt.gca())\n",
    "plt.title('Registrations by Platform (Stacked)')\n",
    "plt.xlabel('date_group')\n",
    "plt.ylabel('registrations')\n",
    "plt.xticks(rotation=45, ha='right')\n",
    "plt.grid(axis='y')\n",
    "plt.legend(title='Platform', loc='upper right')\n",
    "plt.tight_layout()\n",
    "\n",
    "num_dates = len(merged_data_sorted['date_group'].unique())\n",
    "scale = max(1, num_dates // 60)\n",
    "tick_indices = range(0, num_dates, scale)\n",
    "\n",
    "merged_data_sorted['date_group'] = pd.to_datetime(merged_data_sorted['date_group'])\n",
    "\n",
    "unique_dates_str = merged_data_sorted['date_group'].dt.strftime('%Y-%m-%d').unique()\n",
    "tick_labels = [unique_dates_str[i] for i in tick_indices]\n",
    "\n",
    "plt.xticks(tick_indices, tick_labels, rotation=45, ha='right')\n",
    "plt.savefig('./charts/total_registrations_by_platform.png')\n",
    "plt.show()"
   ]
  },
  {
   "cell_type": "markdown",
   "id": "db74872d-000a-4916-8f04-a54972c581bc",
   "metadata": {},
   "source": [
    "5. Итоговая конверсия"
   ]
  },
  {
   "cell_type": "code",
   "execution_count": null,
   "id": "885b08c6-b304-4343-ae4c-3264da6b51b3",
   "metadata": {},
   "outputs": [],
   "source": [
    "total_conversions = merged_data_sorted.groupby('date_group')[['visits', 'registrations']].sum().reset_index()"
   ]
  },
  {
   "cell_type": "code",
   "execution_count": null,
   "id": "2fb8bae4-928a-4e56-b493-6395c03df072",
   "metadata": {},
   "outputs": [],
   "source": [
    "total_conversions[\"conversion\"] = (total_conversions[\"visits\"] / total_conversions[\"registrations\"]).round(2)"
   ]
  },
  {
   "cell_type": "code",
   "execution_count": null,
   "id": "51ee2af0-620d-4ca3-8063-2ae7597f5c1d",
   "metadata": {},
   "outputs": [],
   "source": [
    "total_conversions['date_group'] = pd.to_datetime(total_conversions['date_group'])\n",
    "\n",
    "plt.figure(figsize=(12, 6))\n",
    "ax = sns.lineplot(x='date_group', y='conversion', data=total_conversions, marker='o', markersize=5)\n",
    "plt.title('Overall Conversion')\n",
    "plt.xlabel('Date')\n",
    "plt.ylabel('Conversion(%)')\n",
    "plt.grid(True)\n",
    "\n",
    "num_dates = len(total_conversions['date_group'].unique())\n",
    "interval = max(1, num_dates // 9)\n",
    "\n",
    "\n",
    "ax.xaxis.set_major_locator(mdates.DayLocator(interval=interval))\n",
    "ax.xaxis.set_major_formatter(mdates.DateFormatter('%Y-%m-%d'))\n",
    "\n",
    "label_interval = max(1, num_dates // 30)\n",
    "for i in range(0, num_dates, label_interval):\n",
    "    date = total_conversions['date_group'].iloc[i]\n",
    "    conversion = total_conversions['conversion'].iloc[i]\n",
    "    ax.text(date, conversion, f'{conversion:.1f}%', ha='center', va='bottom')\n",
    "\n",
    "\n",
    "plt.xticks(rotation=45, ha='right')\n",
    "plt.tight_layout()\n",
    "plt.savefig('./charts/total_conversion.png')\n",
    "plt.show()"
   ]
  },
  {
   "cell_type": "markdown",
   "id": "1874b2cb-52b8-40e0-b639-8bcd29bbc063",
   "metadata": {},
   "source": [
    "6. Конверсия по платформам"
   ]
  },
  {
   "cell_type": "code",
   "execution_count": null,
   "id": "2902acd7-48c3-4a38-9361-bd7534a28fcf",
   "metadata": {},
   "outputs": [],
   "source": [
    "platforms = merged_data_sorted['platform'].unique()\n",
    "\n",
    "for platform in platforms:\n",
    "    plt.figure(figsize=(12, 3))\n",
    "    platform_data = merged_data_sorted[merged_data_sorted['platform'] == platform]\n",
    "    ax = sns.lineplot(x='date_group', y='conversion', data=platform_data, marker='o', markersize=5)\n",
    "    plt.title(f'Conversion {platform}')\n",
    "    plt.xlabel('Date')\n",
    "    plt.ylabel('Conversion Rate')\n",
    "    plt.xticks(rotation=45)\n",
    "    plt.grid(True)\n",
    "\n",
    "    num_dates = len(platform_data['date_group'].unique())\n",
    "    interval = max(1, num_dates // 9)\n",
    "    ax.xaxis.set_major_locator(mdates.DayLocator(interval=interval))\n",
    "    ax.xaxis.set_major_formatter(mdates.DateFormatter('%Y-%m-%d'))\n",
    "\n",
    "    label_interval = max(1, num_dates // 30)\n",
    "    for i in range(0, num_dates, label_interval):\n",
    "      date = platform_data['date_group'].iloc[i]\n",
    "      conversion = platform_data['conversion'].iloc[i]\n",
    "      ax.text(date, conversion, f'{conversion:.1f}%', ha='center', va='bottom')\n",
    "\n",
    "    plt.tight_layout()\n",
    "    plt.savefig('./charts/total_conversion_by_platform.png')\n",
    "    plt.show()"
   ]
  },
  {
   "cell_type": "markdown",
   "id": "78f1099a-7479-4985-b867-0b85e2f80b18",
   "metadata": {},
   "source": [
    "7. Стоимости реклам"
   ]
  },
  {
   "cell_type": "code",
   "execution_count": null,
   "id": "34c3f2e2-83ac-42af-8a9f-970963fc4122",
   "metadata": {},
   "outputs": [],
   "source": [
    "total_cost_by_date = df_ads_sorted.groupby('date')['cost'].sum().reset_index()\n",
    "\n",
    "plt.figure(figsize=(14, 7))\n",
    "ax = sns.lineplot(x='date', y='cost', data=total_cost_by_date, marker='o')\n",
    "plt.title('Aggregated Ad Campaign Costs (by date)')\n",
    "plt.xlabel('Date')\n",
    "plt.ylabel('Cost (RUB)')\n",
    "plt.xticks(rotation=45)\n",
    "plt.grid(True)\n",
    "\n",
    "num_dates = len(total_cost_by_date['date'].unique())\n",
    "interval = max(1, num_dates // 50)\n",
    "ax.xaxis.set_major_locator(mdates.DayLocator(interval=interval))\n",
    "ax.xaxis.set_major_formatter(mdates.DateFormatter('%Y-%m-%d'))\n",
    "    \n",
    "for i in range(0, num_dates, interval):\n",
    "  date = total_cost_by_date['date'].iloc[i]\n",
    "  cost = total_cost_by_date['cost'].iloc[i]\n",
    "  ax.text(date, cost, f'{cost:.0f} RUB', ha='center', va='bottom')\n",
    "\n",
    "plt.tight_layout()\n",
    "plt.savefig('./charts/campaigns_cost_by_date.png')\n",
    "plt.show()"
   ]
  },
  {
   "cell_type": "markdown",
   "id": "c1aa6af1-fb5a-416d-9585-cdb7e694fa06",
   "metadata": {},
   "source": [
    "8. Визиты и регистрации с выделением рекламных кампаний"
   ]
  },
  {
   "cell_type": "code",
   "execution_count": null,
   "id": "0b1cfee4-4124-469d-8d46-b4b843cdc94e",
   "metadata": {},
   "outputs": [],
   "source": [
    "totals_by_date = merged_data_sorted.groupby('date_group')[['visits', 'registrations']].sum().reset_index()"
   ]
  },
  {
   "cell_type": "code",
   "execution_count": null,
   "id": "0384198f-1ea4-46bc-85b9-8b143b686a74",
   "metadata": {},
   "outputs": [],
   "source": [
    "merged_df_sorted.head(10)"
   ]
  },
  {
   "cell_type": "code",
   "execution_count": null,
   "id": "221e4cc1-195e-4556-ac84-f054939f7f12",
   "metadata": {},
   "outputs": [],
   "source": [
    "campaign_dates = merged_df_sorted.groupby('utm_campaign')['date_group'].agg(['min', 'max']).reset_index()\n",
    "campaign_dates = campaign_dates.rename(columns={'min': 'start_date', 'max': 'end_date'})\n",
    "campaign_dates['start_date'] = pd.to_datetime(campaign_dates['start_date'])\n",
    "campaign_dates['end_date'] = pd.to_datetime(campaign_dates['end_date'])\n",
    "campaign_dates = campaign_dates.sort_values(by='start_date')\n",
    "campaign_dates"
   ]
  },
  {
   "cell_type": "code",
   "execution_count": null,
   "id": "e3b57fe4-7cfc-45d6-9f4a-f91a09cee213",
   "metadata": {},
   "outputs": [],
   "source": [
    "plt.figure(figsize=(14, 7))\n",
    "ax = sns.lineplot(x='date_group', y='visits', data=totals_by_date, marker='o', label='Visits')\n",
    "plt.title('Visits during marketing active days')\n",
    "plt.xlabel('Date')\n",
    "plt.ylabel('Unique visits')\n",
    "plt.xticks(rotation=45)\n",
    "plt.grid(True)\n",
    "\n",
    "average_visits = totals_by_date['visits'].mean()\n",
    "plt.axhline(average_visits, color='grey', linestyle='--', label=f'Average Visits: {average_visits:.2f}')\n",
    "\n",
    "num_dates = len(totals_by_date['date_group'])\n",
    "interval = max(1, num_dates // 9)\n",
    "ax.xaxis.set_major_locator(mdates.DayLocator(interval=interval))\n",
    "ax.xaxis.set_major_formatter(mdates.DateFormatter('%Y-%m-%d'))\n",
    "\n",
    "colors = sns.color_palette(\"husl\")\n",
    "\n",
    "for i, row in campaign_dates.iterrows():\n",
    "    if row['utm_campaign'] != 'none':\n",
    "        ax.axvspan(row['start_date'], row['end_date'], color=colors[i % len(colors)], alpha=0.3, label=row['utm_campaign'])\n",
    "\n",
    "plt.legend(loc='lower left')\n",
    "plt.tight_layout()\n",
    "plt.savefig('./charts/visits_by_campaigns.png')\n",
    "plt.show()"
   ]
  },
  {
   "cell_type": "code",
   "execution_count": null,
   "id": "a7ae8828-882b-44f3-857e-339aa9e2ff18",
   "metadata": {},
   "outputs": [],
   "source": [
    "plt.figure(figsize=(14, 7))\n",
    "ax = sns.lineplot(x='date_group', y='registrations', data=totals_by_date, marker='o', label='Visits')\n",
    "plt.title('Registrations during marketing active days')\n",
    "plt.xlabel('Date')\n",
    "plt.ylabel('Unique registrations')\n",
    "plt.xticks(rotation=45)\n",
    "plt.grid(True)\n",
    "\n",
    "average_visits = totals_by_date['registrations'].mean()\n",
    "plt.axhline(average_visits, color='grey', linestyle='--', label=f'Average Visits: {average_visits:.2f}')\n",
    "\n",
    "num_dates = len(totals_by_date['date_group'])\n",
    "interval = max(1, num_dates // 9)\n",
    "ax.xaxis.set_major_locator(mdates.DayLocator(interval=interval))\n",
    "ax.xaxis.set_major_formatter(mdates.DateFormatter('%Y-%m-%d'))\n",
    "\n",
    "colors = sns.color_palette(\"husl\")\n",
    "\n",
    "for i, row in campaign_dates.iterrows():\n",
    "    if row['utm_campaign'] != 'none':\n",
    "        ax.axvspan(row['start_date'], row['end_date'], color=colors[i % len(colors)], alpha=0.3, label=row['utm_campaign'])\n",
    "\n",
    "plt.legend(loc='lower left')\n",
    "plt.tight_layout()\n",
    "plt.savefig('./charts/registrations_by_campaigns.png')\n",
    "plt.show()"
   ]
  },
  {
   "cell_type": "code",
   "execution_count": null,
   "id": "b960ad83-0e13-4076-a2bf-6f7f24a0cb49",
   "metadata": {},
   "outputs": [],
   "source": []
  }
 ],
 "metadata": {
  "kernelspec": {
   "display_name": "Python 3 (ipykernel)",
   "language": "python",
   "name": "python3"
  },
  "language_info": {
   "codemirror_mode": {
    "name": "ipython",
    "version": 3
   },
   "file_extension": ".py",
   "mimetype": "text/x-python",
   "name": "python",
   "nbconvert_exporter": "python",
   "pygments_lexer": "ipython3",
   "version": "3.13.5"
  }
 },
 "nbformat": 4,
 "nbformat_minor": 5
}
